{
 "cells": [
  {
   "cell_type": "code",
   "execution_count": 56,
   "metadata": {
    "collapsed": true
   },
   "outputs": [],
   "source": [
    "import pandas as pd"
   ]
  },
  {
   "cell_type": "code",
   "execution_count": 57,
   "metadata": {},
   "outputs": [
    {
     "name": "stdout",
     "output_type": "stream",
     "text": [
      "[WinError 2] 系统找不到指定的文件。: 'data'\n",
      "C:\\Users\\Jeremy\\Documents\\GitHub\\Momentum_ML_Trading_Vega\\MachineLearningTrading\\MachineLearningTrading\\data\n"
     ]
    }
   ],
   "source": [
    "cd data"
   ]
  },
  {
   "cell_type": "code",
   "execution_count": 58,
   "metadata": {
    "collapsed": true
   },
   "outputs": [],
   "source": [
    "ETF_Returns = pd.read_excel('Liquid ETF project Data.xlsx',sheetname='ETF Returns')\n",
    "column_name= ETF_Returns.iloc[2,:].values\n",
    "column_name[0] = 'Date'\n",
    "ETF_Returns = ETF_Returns.iloc[3:,:]\n",
    "ETF_Returns.columns = column_name\n",
    "ETF_Returns.index = ETF_Returns.Date\n",
    "ETF_Returns = ETF_Returns.iloc[:,1:]\n",
    "(ETF_Returns.fillna(0)/100 +1 ).cumprod().to_csv('ETF Returns.csv')"
   ]
  },
  {
   "cell_type": "code",
   "execution_count": 42,
   "metadata": {
    "collapsed": true
   },
   "outputs": [],
   "source": [
    "Index_Returns = pd.read_excel('Liquid ETF project Data.xlsx',sheetname='Index Returns')\n",
    "column_name= Index_Returns.iloc[2,:].values\n",
    "column_name[0] = 'Date'\n",
    "Index_Returns = Index_Returns.iloc[3:,:]\n",
    "Index_Returns.columns = column_name\n",
    "Index_Returns.index = Index_Returns.Date\n",
    "Index_Returns = Index_Returns.iloc[:,1:]\n",
    "Index_Returns['SBG7U Index'][0] = 0\n",
    "(Index_Returns.fillna(0)/100 +1 ).cumprod().to_csv('Index Returns.csv')"
   ]
  },
  {
   "cell_type": "code",
   "execution_count": 55,
   "metadata": {
    "collapsed": true
   },
   "outputs": [],
   "source": [
    "FX_Returns = pd.read_excel('Liquid ETF project Data.xlsx',sheetname='FX')\n",
    "column_name= FX_Returns.iloc[2,:].values\n",
    "column_name[0] = 'Date'\n",
    "FX_Returns = FX_Returns.iloc[3:,:]\n",
    "FX_Returns.columns = column_name\n",
    "FX_Returns.index = FX_Returns.Date\n",
    "FX_Returns = FX_Returns.iloc[:,1:]\n",
    "FX_Returns[1:].to_csv('FX Returns.csv')"
   ]
  }
 ],
 "metadata": {
  "kernelspec": {
   "display_name": "Python 3",
   "language": "python",
   "name": "python3"
  },
  "language_info": {
   "codemirror_mode": {
    "name": "ipython",
    "version": 3
   },
   "file_extension": ".py",
   "mimetype": "text/x-python",
   "name": "python",
   "nbconvert_exporter": "python",
   "pygments_lexer": "ipython3",
   "version": "3.6.1"
  }
 },
 "nbformat": 4,
 "nbformat_minor": 2
}
